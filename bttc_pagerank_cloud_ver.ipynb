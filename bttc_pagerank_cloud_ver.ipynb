{
  "cells": [
    {
      "cell_type": "markdown",
      "metadata": {
        "id": "view-in-github",
        "colab_type": "text"
      },
      "source": [
        "<a href=\"https://colab.research.google.com/github/longthanhta/AI_Chem/blob/main/bttc_pagerank_cloud_ver.ipynb\" target=\"_parent\"><img src=\"https://colab.research.google.com/assets/colab-badge.svg\" alt=\"Open In Colab\"/></a>"
      ]
    },
    {
      "cell_type": "code",
      "execution_count": null,
      "metadata": {
        "id": "01904f37"
      },
      "outputs": [],
      "source": [
        "import pandas as pd\n",
        "import networkx as nx # network\n",
        "from tqdm.auto import tqdm # loading bar\n",
        "import scipy.stats as stats # KTC\n",
        "import numpy as np\n",
        "from matplotlib.pyplot import figure\n",
        "import matplotlib.pyplot as plt\n",
        "plt.rcParams['figure.dpi'] = 200\n",
        "plt.rcParams['savefig.dpi'] = 200\n",
        "tqdm.pandas()\n",
        "G=nx.DiGraph()\n",
        "import math\n"
      ],
      "id": "01904f37"
    },
    {
      "cell_type": "markdown",
      "metadata": {
        "id": "ykQW0YAGIc6z"
      },
      "source": [
        "## Import file"
      ],
      "id": "ykQW0YAGIc6z"
    },
    {
      "cell_type": "code",
      "execution_count": null,
      "metadata": {
        "colab": {
          "base_uri": "https://localhost:8080/"
        },
        "id": "ZXPoLtpIvsl6",
        "outputId": "b781aa14-e4ec-4525-8c2f-a95f9f41f0e3"
      },
      "outputs": [
        {
          "name": "stdout",
          "output_type": "stream",
          "text": [
            "Drive already mounted at /content/gdrive; to attempt to forcibly remount, call drive.mount(\"/content/gdrive\", force_remount=True).\n",
            "/content/gdrive/MyDrive/Octane - repository/Data/BTTC_april_2023/test.csv\n",
            "/content/gdrive/MyDrive/Octane - repository/Data/BTTC_april_2023/bttc_16000000_19509379.csv\n",
            "/content/gdrive/MyDrive/Octane - repository/Data/BTTC_april_2023/Tuan Sent\n",
            "/content/gdrive/MyDrive/Octane - repository/Data/BTTC_april_2023/raw\n"
          ]
        }
      ],
      "source": [
        "from google.colab import drive\n",
        "import glob\n",
        "drive.mount(\"/content/gdrive\")\n",
        "gg_drive_dataset_path=\"/content/gdrive/MyDrive/Octane - repository/Data/BTTC_april_2023/\" # path to database in ggdrive\n",
        "for item in (glob.glob(gg_drive_dataset_path+'*')): # check dataset\n",
        "  print(item)\n"
      ],
      "id": "ZXPoLtpIvsl6"
    },
    {
      "cell_type": "code",
      "execution_count": null,
      "metadata": {
        "id": "a1cc6a90"
      },
      "outputs": [],
      "source": [
        "file_name='bttc_16000000_19509379.csv'\n",
        "df=pd.read_csv(gg_drive_dataset_path+'/'+file_name,low_memory=True)"
      ],
      "id": "a1cc6a90"
    },
    {
      "cell_type": "code",
      "execution_count": null,
      "metadata": {
        "colab": {
          "base_uri": "https://localhost:8080/",
          "height": 270
        },
        "id": "4DoTjkdKG0gV",
        "outputId": "5dd001ab-ab99-4c96-8428-92518744d0d5"
      },
      "outputs": [
        {
          "data": {
            "text/html": [
              "\n",
              "  <div id=\"df-ea58299c-0a44-43f1-9f62-75f28b05e190\">\n",
              "    <div class=\"colab-df-container\">\n",
              "      <div>\n",
              "<style scoped>\n",
              "    .dataframe tbody tr th:only-of-type {\n",
              "        vertical-align: middle;\n",
              "    }\n",
              "\n",
              "    .dataframe tbody tr th {\n",
              "        vertical-align: top;\n",
              "    }\n",
              "\n",
              "    .dataframe thead th {\n",
              "        text-align: right;\n",
              "    }\n",
              "</style>\n",
              "<table border=\"1\" class=\"dataframe\">\n",
              "  <thead>\n",
              "    <tr style=\"text-align: right;\">\n",
              "      <th></th>\n",
              "      <th>block_number</th>\n",
              "      <th>from_address</th>\n",
              "      <th>to_address</th>\n",
              "      <th>gas</th>\n",
              "      <th>gas_used</th>\n",
              "      <th>gas_price</th>\n",
              "      <th>input</th>\n",
              "      <th>value</th>\n",
              "      <th>token_transfer</th>\n",
              "      <th>token_contract</th>\n",
              "    </tr>\n",
              "  </thead>\n",
              "  <tbody>\n",
              "    <tr>\n",
              "      <th>0</th>\n",
              "      <td>16000169</td>\n",
              "      <td>0x4f2d66999f45483df5e5b309f1c959cbf0d1e480</td>\n",
              "      <td>0x746697d9ad21fb9c6ed63b11c81cb66eaba48d71</td>\n",
              "      <td>126697</td>\n",
              "      <td>69465</td>\n",
              "      <td>300000000000000</td>\n",
              "      <td>0x4f74acfe</td>\n",
              "      <td>10000000000000000000</td>\n",
              "      <td>0</td>\n",
              "      <td>0x</td>\n",
              "    </tr>\n",
              "    <tr>\n",
              "      <th>1</th>\n",
              "      <td>16001088</td>\n",
              "      <td>0x0b6de2fb2873cbf6220784bdb70f9d4388553621</td>\n",
              "      <td>0x05bdc6c937d318a85277e1a97e11073b21a5fc02</td>\n",
              "      <td>300000</td>\n",
              "      <td>21368</td>\n",
              "      <td>300000000000000</td>\n",
              "      <td>0x46696c65537061636541776172643a3230323231323035</td>\n",
              "      <td>1061000000000000000000000</td>\n",
              "      <td>0</td>\n",
              "      <td>0x</td>\n",
              "    </tr>\n",
              "    <tr>\n",
              "      <th>2</th>\n",
              "      <td>16001088</td>\n",
              "      <td>0x0b6de2fb2873cbf6220784bdb70f9d4388553621</td>\n",
              "      <td>0x0712b30476fb53f5c81ae1440308547438f2f7c5</td>\n",
              "      <td>300000</td>\n",
              "      <td>21368</td>\n",
              "      <td>300000000000000</td>\n",
              "      <td>0x46696c65537061636541776172643a3230323231323035</td>\n",
              "      <td>1060000000000000000000000</td>\n",
              "      <td>0</td>\n",
              "      <td>0x</td>\n",
              "    </tr>\n",
              "    <tr>\n",
              "      <th>3</th>\n",
              "      <td>16001088</td>\n",
              "      <td>0x0b6de2fb2873cbf6220784bdb70f9d4388553621</td>\n",
              "      <td>0x07b168288b158ea79f4736bed17138b405de6223</td>\n",
              "      <td>300000</td>\n",
              "      <td>21368</td>\n",
              "      <td>300000000000000</td>\n",
              "      <td>0x46696c65537061636541776172643a3230323231323035</td>\n",
              "      <td>553000000000000000000000</td>\n",
              "      <td>0</td>\n",
              "      <td>0x</td>\n",
              "    </tr>\n",
              "    <tr>\n",
              "      <th>4</th>\n",
              "      <td>16001088</td>\n",
              "      <td>0x0b6de2fb2873cbf6220784bdb70f9d4388553621</td>\n",
              "      <td>0x0b5a49253c76d872b51a5b3eaca0ccbfc21f330c</td>\n",
              "      <td>300000</td>\n",
              "      <td>21368</td>\n",
              "      <td>300000000000000</td>\n",
              "      <td>0x46696c65537061636541776172643a3230323231323035</td>\n",
              "      <td>1060000000000000000000000</td>\n",
              "      <td>0</td>\n",
              "      <td>0x</td>\n",
              "    </tr>\n",
              "  </tbody>\n",
              "</table>\n",
              "</div>\n",
              "      <button class=\"colab-df-convert\" onclick=\"convertToInteractive('df-ea58299c-0a44-43f1-9f62-75f28b05e190')\"\n",
              "              title=\"Convert this dataframe to an interactive table.\"\n",
              "              style=\"display:none;\">\n",
              "        \n",
              "  <svg xmlns=\"http://www.w3.org/2000/svg\" height=\"24px\"viewBox=\"0 0 24 24\"\n",
              "       width=\"24px\">\n",
              "    <path d=\"M0 0h24v24H0V0z\" fill=\"none\"/>\n",
              "    <path d=\"M18.56 5.44l.94 2.06.94-2.06 2.06-.94-2.06-.94-.94-2.06-.94 2.06-2.06.94zm-11 1L8.5 8.5l.94-2.06 2.06-.94-2.06-.94L8.5 2.5l-.94 2.06-2.06.94zm10 10l.94 2.06.94-2.06 2.06-.94-2.06-.94-.94-2.06-.94 2.06-2.06.94z\"/><path d=\"M17.41 7.96l-1.37-1.37c-.4-.4-.92-.59-1.43-.59-.52 0-1.04.2-1.43.59L10.3 9.45l-7.72 7.72c-.78.78-.78 2.05 0 2.83L4 21.41c.39.39.9.59 1.41.59.51 0 1.02-.2 1.41-.59l7.78-7.78 2.81-2.81c.8-.78.8-2.07 0-2.86zM5.41 20L4 18.59l7.72-7.72 1.47 1.35L5.41 20z\"/>\n",
              "  </svg>\n",
              "      </button>\n",
              "      \n",
              "  <style>\n",
              "    .colab-df-container {\n",
              "      display:flex;\n",
              "      flex-wrap:wrap;\n",
              "      gap: 12px;\n",
              "    }\n",
              "\n",
              "    .colab-df-convert {\n",
              "      background-color: #E8F0FE;\n",
              "      border: none;\n",
              "      border-radius: 50%;\n",
              "      cursor: pointer;\n",
              "      display: none;\n",
              "      fill: #1967D2;\n",
              "      height: 32px;\n",
              "      padding: 0 0 0 0;\n",
              "      width: 32px;\n",
              "    }\n",
              "\n",
              "    .colab-df-convert:hover {\n",
              "      background-color: #E2EBFA;\n",
              "      box-shadow: 0px 1px 2px rgba(60, 64, 67, 0.3), 0px 1px 3px 1px rgba(60, 64, 67, 0.15);\n",
              "      fill: #174EA6;\n",
              "    }\n",
              "\n",
              "    [theme=dark] .colab-df-convert {\n",
              "      background-color: #3B4455;\n",
              "      fill: #D2E3FC;\n",
              "    }\n",
              "\n",
              "    [theme=dark] .colab-df-convert:hover {\n",
              "      background-color: #434B5C;\n",
              "      box-shadow: 0px 1px 3px 1px rgba(0, 0, 0, 0.15);\n",
              "      filter: drop-shadow(0px 1px 2px rgba(0, 0, 0, 0.3));\n",
              "      fill: #FFFFFF;\n",
              "    }\n",
              "  </style>\n",
              "\n",
              "      <script>\n",
              "        const buttonEl =\n",
              "          document.querySelector('#df-ea58299c-0a44-43f1-9f62-75f28b05e190 button.colab-df-convert');\n",
              "        buttonEl.style.display =\n",
              "          google.colab.kernel.accessAllowed ? 'block' : 'none';\n",
              "\n",
              "        async function convertToInteractive(key) {\n",
              "          const element = document.querySelector('#df-ea58299c-0a44-43f1-9f62-75f28b05e190');\n",
              "          const dataTable =\n",
              "            await google.colab.kernel.invokeFunction('convertToInteractive',\n",
              "                                                     [key], {});\n",
              "          if (!dataTable) return;\n",
              "\n",
              "          const docLinkHtml = 'Like what you see? Visit the ' +\n",
              "            '<a target=\"_blank\" href=https://colab.research.google.com/notebooks/data_table.ipynb>data table notebook</a>'\n",
              "            + ' to learn more about interactive tables.';\n",
              "          element.innerHTML = '';\n",
              "          dataTable['output_type'] = 'display_data';\n",
              "          await google.colab.output.renderOutput(dataTable, element);\n",
              "          const docLink = document.createElement('div');\n",
              "          docLink.innerHTML = docLinkHtml;\n",
              "          element.appendChild(docLink);\n",
              "        }\n",
              "      </script>\n",
              "    </div>\n",
              "  </div>\n",
              "  "
            ],
            "text/plain": [
              "   block_number                                from_address  \\\n",
              "0      16000169  0x4f2d66999f45483df5e5b309f1c959cbf0d1e480   \n",
              "1      16001088  0x0b6de2fb2873cbf6220784bdb70f9d4388553621   \n",
              "2      16001088  0x0b6de2fb2873cbf6220784bdb70f9d4388553621   \n",
              "3      16001088  0x0b6de2fb2873cbf6220784bdb70f9d4388553621   \n",
              "4      16001088  0x0b6de2fb2873cbf6220784bdb70f9d4388553621   \n",
              "\n",
              "                                   to_address     gas  gas_used  \\\n",
              "0  0x746697d9ad21fb9c6ed63b11c81cb66eaba48d71  126697     69465   \n",
              "1  0x05bdc6c937d318a85277e1a97e11073b21a5fc02  300000     21368   \n",
              "2  0x0712b30476fb53f5c81ae1440308547438f2f7c5  300000     21368   \n",
              "3  0x07b168288b158ea79f4736bed17138b405de6223  300000     21368   \n",
              "4  0x0b5a49253c76d872b51a5b3eaca0ccbfc21f330c  300000     21368   \n",
              "\n",
              "         gas_price                                             input  \\\n",
              "0  300000000000000                                        0x4f74acfe   \n",
              "1  300000000000000  0x46696c65537061636541776172643a3230323231323035   \n",
              "2  300000000000000  0x46696c65537061636541776172643a3230323231323035   \n",
              "3  300000000000000  0x46696c65537061636541776172643a3230323231323035   \n",
              "4  300000000000000  0x46696c65537061636541776172643a3230323231323035   \n",
              "\n",
              "                       value token_transfer token_contract  \n",
              "0       10000000000000000000              0             0x  \n",
              "1  1061000000000000000000000              0             0x  \n",
              "2  1060000000000000000000000              0             0x  \n",
              "3   553000000000000000000000              0             0x  \n",
              "4  1060000000000000000000000              0             0x  "
            ]
          },
          "execution_count": 36,
          "metadata": {},
          "output_type": "execute_result"
        }
      ],
      "source": [
        "df.head()"
      ],
      "id": "4DoTjkdKG0gV"
    },
    {
      "cell_type": "code",
      "execution_count": null,
      "metadata": {
        "id": "m8M9weYB8Ysr"
      },
      "outputs": [],
      "source": [
        "df = df[(df['from_address']!=df['to_address'])]# remove loop\n",
        "df = df.drop_duplicates(subset=['block_number','from_address','to_address'])# remove duplicate \n",
        "\n"
      ],
      "id": "m8M9weYB8Ysr"
    },
    {
      "cell_type": "markdown",
      "metadata": {
        "id": "df9e2d60"
      },
      "source": [
        "Native value is Nan: using other tokens </br>\n",
        "Native value is not Nane, using bttc </br>\n",
        "Can currently ignore input col  </br>\n",
        "Token constract:  0x1249c65afb11d179ffb3ce7d4eedd1d9b98ad00 is enthereum (for example)\n",
        "\n"
      ],
      "id": "df9e2d60"
    },
    {
      "cell_type": "code",
      "execution_count": null,
      "metadata": {
        "colab": {
          "base_uri": "https://localhost:8080/",
          "height": 270
        },
        "id": "89f36da8",
        "outputId": "d4ef4ca0-2f8c-4db1-aff7-9c3cdd2b0fd2"
      },
      "outputs": [
        {
          "data": {
            "text/html": [
              "\n",
              "  <div id=\"df-fd564589-52d5-4ec2-94f6-65656d5f5af4\">\n",
              "    <div class=\"colab-df-container\">\n",
              "      <div>\n",
              "<style scoped>\n",
              "    .dataframe tbody tr th:only-of-type {\n",
              "        vertical-align: middle;\n",
              "    }\n",
              "\n",
              "    .dataframe tbody tr th {\n",
              "        vertical-align: top;\n",
              "    }\n",
              "\n",
              "    .dataframe thead th {\n",
              "        text-align: right;\n",
              "    }\n",
              "</style>\n",
              "<table border=\"1\" class=\"dataframe\">\n",
              "  <thead>\n",
              "    <tr style=\"text-align: right;\">\n",
              "      <th></th>\n",
              "      <th>block_number</th>\n",
              "      <th>from_address</th>\n",
              "      <th>to_address</th>\n",
              "      <th>gas</th>\n",
              "      <th>gas_used</th>\n",
              "      <th>gas_price</th>\n",
              "      <th>input</th>\n",
              "      <th>value</th>\n",
              "      <th>token_transfer</th>\n",
              "      <th>token_contract</th>\n",
              "    </tr>\n",
              "  </thead>\n",
              "  <tbody>\n",
              "    <tr>\n",
              "      <th>0</th>\n",
              "      <td>16000169</td>\n",
              "      <td>0x4f2d66999f45483df5e5b309f1c959cbf0d1e480</td>\n",
              "      <td>0x746697d9ad21fb9c6ed63b11c81cb66eaba48d71</td>\n",
              "      <td>126697</td>\n",
              "      <td>69465</td>\n",
              "      <td>300000000000000</td>\n",
              "      <td>0x4f74acfe</td>\n",
              "      <td>10000000000000000000</td>\n",
              "      <td>0</td>\n",
              "      <td>0x</td>\n",
              "    </tr>\n",
              "    <tr>\n",
              "      <th>1</th>\n",
              "      <td>16001088</td>\n",
              "      <td>0x0b6de2fb2873cbf6220784bdb70f9d4388553621</td>\n",
              "      <td>0x05bdc6c937d318a85277e1a97e11073b21a5fc02</td>\n",
              "      <td>300000</td>\n",
              "      <td>21368</td>\n",
              "      <td>300000000000000</td>\n",
              "      <td>0x46696c65537061636541776172643a3230323231323035</td>\n",
              "      <td>1061000000000000000000000</td>\n",
              "      <td>0</td>\n",
              "      <td>0x</td>\n",
              "    </tr>\n",
              "    <tr>\n",
              "      <th>2</th>\n",
              "      <td>16001088</td>\n",
              "      <td>0x0b6de2fb2873cbf6220784bdb70f9d4388553621</td>\n",
              "      <td>0x0712b30476fb53f5c81ae1440308547438f2f7c5</td>\n",
              "      <td>300000</td>\n",
              "      <td>21368</td>\n",
              "      <td>300000000000000</td>\n",
              "      <td>0x46696c65537061636541776172643a3230323231323035</td>\n",
              "      <td>1060000000000000000000000</td>\n",
              "      <td>0</td>\n",
              "      <td>0x</td>\n",
              "    </tr>\n",
              "    <tr>\n",
              "      <th>3</th>\n",
              "      <td>16001088</td>\n",
              "      <td>0x0b6de2fb2873cbf6220784bdb70f9d4388553621</td>\n",
              "      <td>0x07b168288b158ea79f4736bed17138b405de6223</td>\n",
              "      <td>300000</td>\n",
              "      <td>21368</td>\n",
              "      <td>300000000000000</td>\n",
              "      <td>0x46696c65537061636541776172643a3230323231323035</td>\n",
              "      <td>553000000000000000000000</td>\n",
              "      <td>0</td>\n",
              "      <td>0x</td>\n",
              "    </tr>\n",
              "    <tr>\n",
              "      <th>4</th>\n",
              "      <td>16001088</td>\n",
              "      <td>0x0b6de2fb2873cbf6220784bdb70f9d4388553621</td>\n",
              "      <td>0x0b5a49253c76d872b51a5b3eaca0ccbfc21f330c</td>\n",
              "      <td>300000</td>\n",
              "      <td>21368</td>\n",
              "      <td>300000000000000</td>\n",
              "      <td>0x46696c65537061636541776172643a3230323231323035</td>\n",
              "      <td>1060000000000000000000000</td>\n",
              "      <td>0</td>\n",
              "      <td>0x</td>\n",
              "    </tr>\n",
              "  </tbody>\n",
              "</table>\n",
              "</div>\n",
              "      <button class=\"colab-df-convert\" onclick=\"convertToInteractive('df-fd564589-52d5-4ec2-94f6-65656d5f5af4')\"\n",
              "              title=\"Convert this dataframe to an interactive table.\"\n",
              "              style=\"display:none;\">\n",
              "        \n",
              "  <svg xmlns=\"http://www.w3.org/2000/svg\" height=\"24px\"viewBox=\"0 0 24 24\"\n",
              "       width=\"24px\">\n",
              "    <path d=\"M0 0h24v24H0V0z\" fill=\"none\"/>\n",
              "    <path d=\"M18.56 5.44l.94 2.06.94-2.06 2.06-.94-2.06-.94-.94-2.06-.94 2.06-2.06.94zm-11 1L8.5 8.5l.94-2.06 2.06-.94-2.06-.94L8.5 2.5l-.94 2.06-2.06.94zm10 10l.94 2.06.94-2.06 2.06-.94-2.06-.94-.94-2.06-.94 2.06-2.06.94z\"/><path d=\"M17.41 7.96l-1.37-1.37c-.4-.4-.92-.59-1.43-.59-.52 0-1.04.2-1.43.59L10.3 9.45l-7.72 7.72c-.78.78-.78 2.05 0 2.83L4 21.41c.39.39.9.59 1.41.59.51 0 1.02-.2 1.41-.59l7.78-7.78 2.81-2.81c.8-.78.8-2.07 0-2.86zM5.41 20L4 18.59l7.72-7.72 1.47 1.35L5.41 20z\"/>\n",
              "  </svg>\n",
              "      </button>\n",
              "      \n",
              "  <style>\n",
              "    .colab-df-container {\n",
              "      display:flex;\n",
              "      flex-wrap:wrap;\n",
              "      gap: 12px;\n",
              "    }\n",
              "\n",
              "    .colab-df-convert {\n",
              "      background-color: #E8F0FE;\n",
              "      border: none;\n",
              "      border-radius: 50%;\n",
              "      cursor: pointer;\n",
              "      display: none;\n",
              "      fill: #1967D2;\n",
              "      height: 32px;\n",
              "      padding: 0 0 0 0;\n",
              "      width: 32px;\n",
              "    }\n",
              "\n",
              "    .colab-df-convert:hover {\n",
              "      background-color: #E2EBFA;\n",
              "      box-shadow: 0px 1px 2px rgba(60, 64, 67, 0.3), 0px 1px 3px 1px rgba(60, 64, 67, 0.15);\n",
              "      fill: #174EA6;\n",
              "    }\n",
              "\n",
              "    [theme=dark] .colab-df-convert {\n",
              "      background-color: #3B4455;\n",
              "      fill: #D2E3FC;\n",
              "    }\n",
              "\n",
              "    [theme=dark] .colab-df-convert:hover {\n",
              "      background-color: #434B5C;\n",
              "      box-shadow: 0px 1px 3px 1px rgba(0, 0, 0, 0.15);\n",
              "      filter: drop-shadow(0px 1px 2px rgba(0, 0, 0, 0.3));\n",
              "      fill: #FFFFFF;\n",
              "    }\n",
              "  </style>\n",
              "\n",
              "      <script>\n",
              "        const buttonEl =\n",
              "          document.querySelector('#df-fd564589-52d5-4ec2-94f6-65656d5f5af4 button.colab-df-convert');\n",
              "        buttonEl.style.display =\n",
              "          google.colab.kernel.accessAllowed ? 'block' : 'none';\n",
              "\n",
              "        async function convertToInteractive(key) {\n",
              "          const element = document.querySelector('#df-fd564589-52d5-4ec2-94f6-65656d5f5af4');\n",
              "          const dataTable =\n",
              "            await google.colab.kernel.invokeFunction('convertToInteractive',\n",
              "                                                     [key], {});\n",
              "          if (!dataTable) return;\n",
              "\n",
              "          const docLinkHtml = 'Like what you see? Visit the ' +\n",
              "            '<a target=\"_blank\" href=https://colab.research.google.com/notebooks/data_table.ipynb>data table notebook</a>'\n",
              "            + ' to learn more about interactive tables.';\n",
              "          element.innerHTML = '';\n",
              "          dataTable['output_type'] = 'display_data';\n",
              "          await google.colab.output.renderOutput(dataTable, element);\n",
              "          const docLink = document.createElement('div');\n",
              "          docLink.innerHTML = docLinkHtml;\n",
              "          element.appendChild(docLink);\n",
              "        }\n",
              "      </script>\n",
              "    </div>\n",
              "  </div>\n",
              "  "
            ],
            "text/plain": [
              "   block_number                                from_address  \\\n",
              "0      16000169  0x4f2d66999f45483df5e5b309f1c959cbf0d1e480   \n",
              "1      16001088  0x0b6de2fb2873cbf6220784bdb70f9d4388553621   \n",
              "2      16001088  0x0b6de2fb2873cbf6220784bdb70f9d4388553621   \n",
              "3      16001088  0x0b6de2fb2873cbf6220784bdb70f9d4388553621   \n",
              "4      16001088  0x0b6de2fb2873cbf6220784bdb70f9d4388553621   \n",
              "\n",
              "                                   to_address     gas  gas_used  \\\n",
              "0  0x746697d9ad21fb9c6ed63b11c81cb66eaba48d71  126697     69465   \n",
              "1  0x05bdc6c937d318a85277e1a97e11073b21a5fc02  300000     21368   \n",
              "2  0x0712b30476fb53f5c81ae1440308547438f2f7c5  300000     21368   \n",
              "3  0x07b168288b158ea79f4736bed17138b405de6223  300000     21368   \n",
              "4  0x0b5a49253c76d872b51a5b3eaca0ccbfc21f330c  300000     21368   \n",
              "\n",
              "         gas_price                                             input  \\\n",
              "0  300000000000000                                        0x4f74acfe   \n",
              "1  300000000000000  0x46696c65537061636541776172643a3230323231323035   \n",
              "2  300000000000000  0x46696c65537061636541776172643a3230323231323035   \n",
              "3  300000000000000  0x46696c65537061636541776172643a3230323231323035   \n",
              "4  300000000000000  0x46696c65537061636541776172643a3230323231323035   \n",
              "\n",
              "                       value token_transfer token_contract  \n",
              "0       10000000000000000000              0             0x  \n",
              "1  1061000000000000000000000              0             0x  \n",
              "2  1060000000000000000000000              0             0x  \n",
              "3   553000000000000000000000              0             0x  \n",
              "4  1060000000000000000000000              0             0x  "
            ]
          },
          "execution_count": 38,
          "metadata": {},
          "output_type": "execute_result"
        }
      ],
      "source": [
        "df.head()"
      ],
      "id": "89f36da8"
    },
    {
      "cell_type": "markdown",
      "metadata": {
        "id": "FTVPCYNAIhI9"
      },
      "source": [
        "## Simple weight calculating"
      ],
      "id": "FTVPCYNAIhI9"
    },
    {
      "cell_type": "code",
      "execution_count": null,
      "metadata": {
        "colab": {
          "base_uri": "https://localhost:8080/"
        },
        "id": "E07D1d_X3kx_",
        "outputId": "2b1e798a-b387-4a1d-8652-6c5bf06e2d85"
      },
      "outputs": [
        {
          "name": "stderr",
          "output_type": "stream",
          "text": [
            "<ipython-input-39-90d1d6b79a7f>:3: SettingWithCopyWarning: \n",
            "A value is trying to be set on a copy of a slice from a DataFrame.\n",
            "Try using .loc[row_indexer,col_indexer] = value instead\n",
            "\n",
            "See the caveats in the documentation: https://pandas.pydata.org/pandas-docs/stable/user_guide/indexing.html#returning-a-view-versus-a-copy\n",
            "  df['weight']=(df['block_number']-16000000)/(lastest-origin)\n"
          ]
        }
      ],
      "source": [
        "origin = 16000000\n",
        "lastest= 19509379\n",
        "df['weight']=(df['block_number']-16000000)/(lastest-origin)"
      ],
      "id": "E07D1d_X3kx_"
    },
    {
      "cell_type": "code",
      "execution_count": null,
      "metadata": {
        "colab": {
          "base_uri": "https://localhost:8080/",
          "height": 270
        },
        "id": "DLYvMlqQ45Kq",
        "outputId": "653c1957-3b12-411d-da90-0a9cd31186d4"
      },
      "outputs": [
        {
          "data": {
            "text/html": [
              "\n",
              "  <div id=\"df-d444ab0e-35d0-4940-b469-f30fccca3a8a\">\n",
              "    <div class=\"colab-df-container\">\n",
              "      <div>\n",
              "<style scoped>\n",
              "    .dataframe tbody tr th:only-of-type {\n",
              "        vertical-align: middle;\n",
              "    }\n",
              "\n",
              "    .dataframe tbody tr th {\n",
              "        vertical-align: top;\n",
              "    }\n",
              "\n",
              "    .dataframe thead th {\n",
              "        text-align: right;\n",
              "    }\n",
              "</style>\n",
              "<table border=\"1\" class=\"dataframe\">\n",
              "  <thead>\n",
              "    <tr style=\"text-align: right;\">\n",
              "      <th></th>\n",
              "      <th>block_number</th>\n",
              "      <th>from_address</th>\n",
              "      <th>to_address</th>\n",
              "      <th>gas</th>\n",
              "      <th>gas_used</th>\n",
              "      <th>gas_price</th>\n",
              "      <th>input</th>\n",
              "      <th>value</th>\n",
              "      <th>token_transfer</th>\n",
              "      <th>token_contract</th>\n",
              "      <th>weight</th>\n",
              "    </tr>\n",
              "  </thead>\n",
              "  <tbody>\n",
              "    <tr>\n",
              "      <th>0</th>\n",
              "      <td>16000169</td>\n",
              "      <td>0x4f2d66999f45483df5e5b309f1c959cbf0d1e480</td>\n",
              "      <td>0x746697d9ad21fb9c6ed63b11c81cb66eaba48d71</td>\n",
              "      <td>126697</td>\n",
              "      <td>69465</td>\n",
              "      <td>300000000000000</td>\n",
              "      <td>0x4f74acfe</td>\n",
              "      <td>10000000000000000000</td>\n",
              "      <td>0</td>\n",
              "      <td>0x</td>\n",
              "      <td>0.000048</td>\n",
              "    </tr>\n",
              "    <tr>\n",
              "      <th>1</th>\n",
              "      <td>16001088</td>\n",
              "      <td>0x0b6de2fb2873cbf6220784bdb70f9d4388553621</td>\n",
              "      <td>0x05bdc6c937d318a85277e1a97e11073b21a5fc02</td>\n",
              "      <td>300000</td>\n",
              "      <td>21368</td>\n",
              "      <td>300000000000000</td>\n",
              "      <td>0x46696c65537061636541776172643a3230323231323035</td>\n",
              "      <td>1061000000000000000000000</td>\n",
              "      <td>0</td>\n",
              "      <td>0x</td>\n",
              "      <td>0.000310</td>\n",
              "    </tr>\n",
              "    <tr>\n",
              "      <th>2</th>\n",
              "      <td>16001088</td>\n",
              "      <td>0x0b6de2fb2873cbf6220784bdb70f9d4388553621</td>\n",
              "      <td>0x0712b30476fb53f5c81ae1440308547438f2f7c5</td>\n",
              "      <td>300000</td>\n",
              "      <td>21368</td>\n",
              "      <td>300000000000000</td>\n",
              "      <td>0x46696c65537061636541776172643a3230323231323035</td>\n",
              "      <td>1060000000000000000000000</td>\n",
              "      <td>0</td>\n",
              "      <td>0x</td>\n",
              "      <td>0.000310</td>\n",
              "    </tr>\n",
              "    <tr>\n",
              "      <th>3</th>\n",
              "      <td>16001088</td>\n",
              "      <td>0x0b6de2fb2873cbf6220784bdb70f9d4388553621</td>\n",
              "      <td>0x07b168288b158ea79f4736bed17138b405de6223</td>\n",
              "      <td>300000</td>\n",
              "      <td>21368</td>\n",
              "      <td>300000000000000</td>\n",
              "      <td>0x46696c65537061636541776172643a3230323231323035</td>\n",
              "      <td>553000000000000000000000</td>\n",
              "      <td>0</td>\n",
              "      <td>0x</td>\n",
              "      <td>0.000310</td>\n",
              "    </tr>\n",
              "    <tr>\n",
              "      <th>4</th>\n",
              "      <td>16001088</td>\n",
              "      <td>0x0b6de2fb2873cbf6220784bdb70f9d4388553621</td>\n",
              "      <td>0x0b5a49253c76d872b51a5b3eaca0ccbfc21f330c</td>\n",
              "      <td>300000</td>\n",
              "      <td>21368</td>\n",
              "      <td>300000000000000</td>\n",
              "      <td>0x46696c65537061636541776172643a3230323231323035</td>\n",
              "      <td>1060000000000000000000000</td>\n",
              "      <td>0</td>\n",
              "      <td>0x</td>\n",
              "      <td>0.000310</td>\n",
              "    </tr>\n",
              "  </tbody>\n",
              "</table>\n",
              "</div>\n",
              "      <button class=\"colab-df-convert\" onclick=\"convertToInteractive('df-d444ab0e-35d0-4940-b469-f30fccca3a8a')\"\n",
              "              title=\"Convert this dataframe to an interactive table.\"\n",
              "              style=\"display:none;\">\n",
              "        \n",
              "  <svg xmlns=\"http://www.w3.org/2000/svg\" height=\"24px\"viewBox=\"0 0 24 24\"\n",
              "       width=\"24px\">\n",
              "    <path d=\"M0 0h24v24H0V0z\" fill=\"none\"/>\n",
              "    <path d=\"M18.56 5.44l.94 2.06.94-2.06 2.06-.94-2.06-.94-.94-2.06-.94 2.06-2.06.94zm-11 1L8.5 8.5l.94-2.06 2.06-.94-2.06-.94L8.5 2.5l-.94 2.06-2.06.94zm10 10l.94 2.06.94-2.06 2.06-.94-2.06-.94-.94-2.06-.94 2.06-2.06.94z\"/><path d=\"M17.41 7.96l-1.37-1.37c-.4-.4-.92-.59-1.43-.59-.52 0-1.04.2-1.43.59L10.3 9.45l-7.72 7.72c-.78.78-.78 2.05 0 2.83L4 21.41c.39.39.9.59 1.41.59.51 0 1.02-.2 1.41-.59l7.78-7.78 2.81-2.81c.8-.78.8-2.07 0-2.86zM5.41 20L4 18.59l7.72-7.72 1.47 1.35L5.41 20z\"/>\n",
              "  </svg>\n",
              "      </button>\n",
              "      \n",
              "  <style>\n",
              "    .colab-df-container {\n",
              "      display:flex;\n",
              "      flex-wrap:wrap;\n",
              "      gap: 12px;\n",
              "    }\n",
              "\n",
              "    .colab-df-convert {\n",
              "      background-color: #E8F0FE;\n",
              "      border: none;\n",
              "      border-radius: 50%;\n",
              "      cursor: pointer;\n",
              "      display: none;\n",
              "      fill: #1967D2;\n",
              "      height: 32px;\n",
              "      padding: 0 0 0 0;\n",
              "      width: 32px;\n",
              "    }\n",
              "\n",
              "    .colab-df-convert:hover {\n",
              "      background-color: #E2EBFA;\n",
              "      box-shadow: 0px 1px 2px rgba(60, 64, 67, 0.3), 0px 1px 3px 1px rgba(60, 64, 67, 0.15);\n",
              "      fill: #174EA6;\n",
              "    }\n",
              "\n",
              "    [theme=dark] .colab-df-convert {\n",
              "      background-color: #3B4455;\n",
              "      fill: #D2E3FC;\n",
              "    }\n",
              "\n",
              "    [theme=dark] .colab-df-convert:hover {\n",
              "      background-color: #434B5C;\n",
              "      box-shadow: 0px 1px 3px 1px rgba(0, 0, 0, 0.15);\n",
              "      filter: drop-shadow(0px 1px 2px rgba(0, 0, 0, 0.3));\n",
              "      fill: #FFFFFF;\n",
              "    }\n",
              "  </style>\n",
              "\n",
              "      <script>\n",
              "        const buttonEl =\n",
              "          document.querySelector('#df-d444ab0e-35d0-4940-b469-f30fccca3a8a button.colab-df-convert');\n",
              "        buttonEl.style.display =\n",
              "          google.colab.kernel.accessAllowed ? 'block' : 'none';\n",
              "\n",
              "        async function convertToInteractive(key) {\n",
              "          const element = document.querySelector('#df-d444ab0e-35d0-4940-b469-f30fccca3a8a');\n",
              "          const dataTable =\n",
              "            await google.colab.kernel.invokeFunction('convertToInteractive',\n",
              "                                                     [key], {});\n",
              "          if (!dataTable) return;\n",
              "\n",
              "          const docLinkHtml = 'Like what you see? Visit the ' +\n",
              "            '<a target=\"_blank\" href=https://colab.research.google.com/notebooks/data_table.ipynb>data table notebook</a>'\n",
              "            + ' to learn more about interactive tables.';\n",
              "          element.innerHTML = '';\n",
              "          dataTable['output_type'] = 'display_data';\n",
              "          await google.colab.output.renderOutput(dataTable, element);\n",
              "          const docLink = document.createElement('div');\n",
              "          docLink.innerHTML = docLinkHtml;\n",
              "          element.appendChild(docLink);\n",
              "        }\n",
              "      </script>\n",
              "    </div>\n",
              "  </div>\n",
              "  "
            ],
            "text/plain": [
              "   block_number                                from_address  \\\n",
              "0      16000169  0x4f2d66999f45483df5e5b309f1c959cbf0d1e480   \n",
              "1      16001088  0x0b6de2fb2873cbf6220784bdb70f9d4388553621   \n",
              "2      16001088  0x0b6de2fb2873cbf6220784bdb70f9d4388553621   \n",
              "3      16001088  0x0b6de2fb2873cbf6220784bdb70f9d4388553621   \n",
              "4      16001088  0x0b6de2fb2873cbf6220784bdb70f9d4388553621   \n",
              "\n",
              "                                   to_address     gas  gas_used  \\\n",
              "0  0x746697d9ad21fb9c6ed63b11c81cb66eaba48d71  126697     69465   \n",
              "1  0x05bdc6c937d318a85277e1a97e11073b21a5fc02  300000     21368   \n",
              "2  0x0712b30476fb53f5c81ae1440308547438f2f7c5  300000     21368   \n",
              "3  0x07b168288b158ea79f4736bed17138b405de6223  300000     21368   \n",
              "4  0x0b5a49253c76d872b51a5b3eaca0ccbfc21f330c  300000     21368   \n",
              "\n",
              "         gas_price                                             input  \\\n",
              "0  300000000000000                                        0x4f74acfe   \n",
              "1  300000000000000  0x46696c65537061636541776172643a3230323231323035   \n",
              "2  300000000000000  0x46696c65537061636541776172643a3230323231323035   \n",
              "3  300000000000000  0x46696c65537061636541776172643a3230323231323035   \n",
              "4  300000000000000  0x46696c65537061636541776172643a3230323231323035   \n",
              "\n",
              "                       value token_transfer token_contract    weight  \n",
              "0       10000000000000000000              0             0x  0.000048  \n",
              "1  1061000000000000000000000              0             0x  0.000310  \n",
              "2  1060000000000000000000000              0             0x  0.000310  \n",
              "3   553000000000000000000000              0             0x  0.000310  \n",
              "4  1060000000000000000000000              0             0x  0.000310  "
            ]
          },
          "execution_count": 40,
          "metadata": {},
          "output_type": "execute_result"
        }
      ],
      "source": [
        "df.head()"
      ],
      "id": "DLYvMlqQ45Kq"
    },
    {
      "cell_type": "markdown",
      "metadata": {
        "id": "9teqqVLSIl3g"
      },
      "source": [
        "## Dataframe to graph(networkx)\n"
      ],
      "id": "9teqqVLSIl3g"
    },
    {
      "cell_type": "code",
      "execution_count": null,
      "metadata": {
        "colab": {
          "background_save": true
        },
        "id": "OxJqwi9l3F9K"
      },
      "outputs": [],
      "source": [
        "G=nx.from_pandas_edgelist(df, 'from_address', 'to_address', create_using=nx.DiGraph, edge_attr='weight')\n"
      ],
      "id": "OxJqwi9l3F9K"
    },
    {
      "cell_type": "code",
      "execution_count": null,
      "metadata": {
        "colab": {
          "background_save": true
        },
        "id": "k0YBrmR94Dm6",
        "outputId": "c33c1dbd-76ba-4577-c6e9-994e91b37e2f"
      },
      "outputs": [
        {
          "name": "stdout",
          "output_type": "stream",
          "text": [
            "6433040 rows into 2298333 nodes and 4168990 edge\n"
          ]
        }
      ],
      "source": [
        "print(len(df),'rows into',len(G.nodes()),'nodes and',len(G.edges()),'edge')"
      ],
      "id": "k0YBrmR94Dm6"
    },
    {
      "cell_type": "code",
      "execution_count": null,
      "metadata": {
        "colab": {
          "background_save": true
        },
        "id": "3dKcRpxhiGLF",
        "outputId": "4e8c8406-e628-4669-8c7a-c46140635967"
      },
      "outputs": [
        {
          "data": {
            "text/plain": [
              "2298333"
            ]
          },
          "execution_count": 43,
          "metadata": {},
          "output_type": "execute_result"
        }
      ],
      "source": [
        "node_set=list(G.nodes())\n",
        "len(node_set)"
      ],
      "id": "3dKcRpxhiGLF"
    },
    {
      "cell_type": "markdown",
      "metadata": {
        "id": "5882407e"
      },
      "source": [
        "## Pagerank calculation"
      ],
      "id": "5882407e"
    },
    {
      "cell_type": "code",
      "execution_count": null,
      "metadata": {
        "id": "k0RM0w1w35Gq"
      },
      "outputs": [],
      "source": [
        "pr=nx.pagerank(G,0.5 ,max_iter=10000000000)\n",
        "# dict to panda for ranking\n",
        "pr_df=pd.DataFrame(pr.items(),columns=['add','pr'])\n",
        "pr_df=pr_df.sort_values('pr',ascending=False)"
      ],
      "id": "k0RM0w1w35Gq"
    },
    {
      "cell_type": "code",
      "execution_count": null,
      "metadata": {
        "id": "e3f78152"
      },
      "outputs": [],
      "source": [
        "# scale the result\n",
        "pr_df['pr']=pr_df['pr']*1000000\n",
        "pr_df['pr_log']=np.log(pr_df['pr'])*1000\n",
        "\n",
        "\n",
        "pr_df.head()\n",
        "\n"
      ],
      "id": "e3f78152"
    },
    {
      "cell_type": "code",
      "execution_count": null,
      "metadata": {
        "id": "_XvBLVLrI7k-"
      },
      "outputs": [],
      "source": [
        "with open('/content/gdrive/My Drive/file.txt', 'w') as f:\n",
        "  pr_df.to_csv('pagerank.csv')"
      ],
      "id": "_XvBLVLrI7k-"
    },
    {
      "cell_type": "code",
      "execution_count": null,
      "metadata": {
        "id": "vw6pvkAH01J4"
      },
      "outputs": [],
      "source": [
        "ax = pr_df['pr_log'].plot.hist(bins=100)\n",
        "ax.grid()\n",
        "figure(figsize=(4, 4))\n",
        "\n",
        "ax.set_yscale('log')\n",
        "\n",
        "ax.set_ylabel('Count (log scale)')\n",
        "ax.set_xlabel('Reputaiton score (x10e6)')\n",
        "ax.set_title('Reputation Distribution')\n",
        "\n",
        "plt.show()"
      ],
      "id": "vw6pvkAH01J4"
    },
    {
      "cell_type": "code",
      "execution_count": null,
      "metadata": {
        "id": "q2LWoD60dXxu"
      },
      "outputs": [],
      "source": [
        "out_df=pd.DataFrame(out_table)\n",
        "out_dv.to_csv(gg_drive_dataset_path+'out.csv')"
      ],
      "id": "q2LWoD60dXxu"
    },
    {
      "cell_type": "markdown",
      "metadata": {
        "id": "2afTYjHgIqzY"
      },
      "source": [
        "## Plotting"
      ],
      "id": "2afTYjHgIqzY"
    },
    {
      "cell_type": "markdown",
      "metadata": {
        "id": "19aab14a"
      },
      "source": [
        "## Kendall Tau Correlation"
      ],
      "id": "19aab14a"
    },
    {
      "cell_type": "code",
      "execution_count": null,
      "metadata": {
        "id": "2c1d9fea"
      },
      "outputs": [],
      "source": [
        "'''\n",
        "# Get Indegree\n",
        "ind_list=[]\n",
        "for add in add_list:\n",
        "    indegree=G.in_degree(add)\n",
        "    ind_list.append(indegree)\n",
        "\n",
        "# dict to panda for ranking\n",
        "ind_df=pd.DataFrame(dict(add=add_list, ind=ind_list),columns=['add','ind'])\n",
        "ind_df=ind_df.sort_values('ind',ascending=False)\n",
        "# reset index to get ranking\n",
        "ind_df=ind_df.reset_index(drop=True)\n",
        "# for calculate kentau coeficent\n",
        "ind_df.reset_index(inplace=True)\n",
        "ind_df = ind_df.rename(columns = {'index':'rank'})\n",
        "\n",
        "ind_df.head()\n",
        "\n",
        "pr_df=pr_df.sort_values('add')\n",
        "pr_ranks=pr_df['rank']\n",
        "ind_df=ind_df.sort_values('add')\n",
        "ind_ranks=ind_df['rank']\n",
        "tau, p_value = stats.kendalltau(pr_ranks, ind_ranks)\n",
        "print('ktc',tau)\n",
        "'''"
      ],
      "id": "2c1d9fea"
    },
    {
      "cell_type": "code",
      "execution_count": null,
      "metadata": {
        "id": "ee1169f9"
      },
      "outputs": [],
      "source": [],
      "id": "ee1169f9"
    },
    {
      "cell_type": "code",
      "execution_count": null,
      "metadata": {
        "id": "83ce9ee9"
      },
      "outputs": [],
      "source": [],
      "id": "83ce9ee9"
    }
  ],
  "metadata": {
    "colab": {
      "machine_shape": "hm",
      "provenance": [],
      "include_colab_link": true
    },
    "gpuClass": "standard",
    "kernelspec": {
      "display_name": "Python 3 (ipykernel)",
      "language": "python",
      "name": "python3"
    },
    "language_info": {
      "codemirror_mode": {
        "name": "ipython",
        "version": 3
      },
      "file_extension": ".py",
      "mimetype": "text/x-python",
      "name": "python",
      "nbconvert_exporter": "python",
      "pygments_lexer": "ipython3",
      "version": "3.9.13"
    }
  },
  "nbformat": 4,
  "nbformat_minor": 5
}